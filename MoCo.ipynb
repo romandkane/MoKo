{
 "cells": [
  {
   "cell_type": "code",
   "execution_count": 1,
   "metadata": {},
   "outputs": [],
   "source": [
    "import torch\n",
    "import torchvision\n",
    "import torchvision.transforms as transforms\n",
    "\n",
    "import torch.nn as nn\n",
    "import torch.nn.functional as F\n",
    "import torch.optim as optim\n",
    "import numpy as np\n",
    "import collections "
   ]
  },
  {
   "cell_type": "code",
   "execution_count": 2,
   "metadata": {},
   "outputs": [
    {
     "name": "stdout",
     "output_type": "stream",
     "text": [
      "Files already downloaded and verified\n",
      "Files already downloaded and verified\n"
     ]
    }
   ],
   "source": [
    "transform = transforms.Compose([\n",
    "    transforms.ToTensor(),\n",
    "    transforms.Normalize((0.5, 0.5, 0.5), (0.5, 0.5, 0.5))\n",
    "])\n",
    "\n",
    "aug_transform = transforms.Compose([\n",
    "    transforms.ToPILImage(),\n",
    "    transforms.RandomCrop(32, padding=4),\n",
    "    transforms.RandomHorizontalFlip(),\n",
    "    transforms.ToTensor(),\n",
    "])\n",
    "\n",
    "train_set = torchvision.datasets.CIFAR10(root='./data', train=True,\n",
    "                                        download=True, transform=transform)\n",
    "train_loader = torch.utils.data.DataLoader(train_set, batch_size=4,\n",
    "                                          shuffle=True, num_workers=2)\n",
    "\n",
    "test_set = torchvision.datasets.CIFAR10(root='./data', train=False,\n",
    "                                       download=True, transform=transform)\n",
    "test_loader = torch.utils.data.DataLoader(test_set, batch_size=4,\n",
    "                                         shuffle=False, num_workers=2)\n",
    "\n",
    "classes = ('plane', 'car', 'bird', 'cat',\n",
    "           'deer', 'dog', 'frog', 'horse', 'ship', 'truck')"
   ]
  },
  {
   "cell_type": "markdown",
   "metadata": {},
   "source": [
    "## Линейный классификатор"
   ]
  },
  {
   "cell_type": "code",
   "execution_count": 3,
   "metadata": {},
   "outputs": [],
   "source": [
    "class LinearNet(torch.nn.Module):\n",
    "    def __init__(self):\n",
    "        super(LinearNet, self).__init__()\n",
    "        self.inp = torch.nn.Linear(32 * 32 * 3, 128)\n",
    "        self.out = torch.nn.Linear(128, 10)\n",
    "\n",
    "    def forward(self, x):\n",
    "        x = x.view(-1, 32 * 32 * 3)\n",
    "        x = self.inp(x)\n",
    "        return self.out(x)"
   ]
  },
  {
   "cell_type": "markdown",
   "metadata": {},
   "source": [
    "### Линейный классификатор выдает не очень хорошее качество, поэтому я решил использовать CNN"
   ]
  },
  {
   "cell_type": "code",
   "execution_count": 4,
   "metadata": {},
   "outputs": [],
   "source": [
    "class Net(nn.Module):\n",
    "    def __init__(self):\n",
    "        super(Net, self).__init__()\n",
    "        self.conv1 = nn.Conv2d(3, 6, 5)\n",
    "        self.pool = nn.MaxPool2d(2, 2)\n",
    "        self.conv2 = nn.Conv2d(6, 16, 5)\n",
    "        self.conv2_bn = nn.BatchNorm2d(16)\n",
    "        self.fc1 = nn.Linear(16 * 5 * 5, 120)\n",
    "        self.fc1_bn = nn.BatchNorm1d(120)\n",
    "        self.out = nn.Linear(120, 10)\n",
    "\n",
    "    def forward(self, x):\n",
    "        x = self.pool(F.relu(self.conv1(x)))\n",
    "        x = self.pool(F.relu(self.conv2_bn(self.conv2(x))))\n",
    "        x = x.view(-1, 16 * 5 * 5)\n",
    "        x = F.relu(self.fc1_bn(self.fc1(x)))\n",
    "        return self.out(x)"
   ]
  },
  {
   "cell_type": "code",
   "execution_count": 5,
   "metadata": {},
   "outputs": [],
   "source": [
    "def train(model, train_loader, optimizer, criterion, loss_vector, accuracy_vector):\n",
    "    model.train()\n",
    "    \n",
    "    train_loss, train_correct = 0.0, 0.0\n",
    "    running_loss, correct = 0.0, 0.0\n",
    "\n",
    "    for i, (inputs, labels) in enumerate(train_loader, 0):\n",
    "        optimizer.zero_grad()\n",
    "        outputs = model(inputs)\n",
    "\n",
    "        pred = outputs.data.max(1)[1] # get the index of the max log-probability\n",
    "        correct += pred.eq(labels.data).sum().item()\n",
    "\n",
    "        loss = criterion(outputs, labels)\n",
    "        loss.backward()\n",
    "        optimizer.step()\n",
    "\n",
    "        # print statistics\n",
    "        running_loss += loss.item()\n",
    "        if i % 2500 == 2499:\n",
    "            print('[%d, %d] (%d%%)\\t loss: %.3f,\\t accuracy: %.3f' %\n",
    "                  (i + 1, len(train_loader), 100. * (i+1) / len(train_loader), \n",
    "                   running_loss / 2500, 100. * correct / (2500*labels.size(0)) ))\n",
    "            train_correct += correct\n",
    "            train_loss += running_loss\n",
    "            correct = 0.0\n",
    "            running_loss = 0.0\n",
    "\n",
    "    train_loss /= len(train_loader)\n",
    "    loss_vector.append(train_loss)\n",
    "\n",
    "    accuracy = 100. * train_correct / len(train_loader.dataset)\n",
    "    accuracy_vector.append(accuracy)"
   ]
  },
  {
   "cell_type": "code",
   "execution_count": 6,
   "metadata": {},
   "outputs": [],
   "source": [
    "def validate(model, validation_loader, criterion, loss_vector, accuracy_vector):\n",
    "    model.eval()\n",
    "    \n",
    "    val_loss, val_correct = 0.0, 0.0\n",
    "\n",
    "    for i, (inputs, labels) in enumerate(validation_loader, 0):\n",
    "        outputs = model(inputs)\n",
    "        val_loss += criterion(outputs, labels).item()\n",
    "        pred = outputs.data.max(1)[1] # get the index of the max log-probability\n",
    "        val_correct += pred.eq(labels.data).sum().item()\n",
    "\n",
    "    val_loss /= len(validation_loader)\n",
    "    loss_vector.append(val_loss)\n",
    "\n",
    "    accuracy = 100. * val_correct / len(validation_loader.dataset)\n",
    "    accuracy_vector.append(accuracy)\n",
    "    print('Test average loss: %.3f\\t accuracy: (%.3f%%)\\n' % (val_loss, accuracy))"
   ]
  },
  {
   "cell_type": "markdown",
   "metadata": {},
   "source": [
    "# Pre-training"
   ]
  },
  {
   "cell_type": "code",
   "execution_count": 44,
   "metadata": {},
   "outputs": [],
   "source": [
    "momentum_update = lambda m,fk,fq: { key: m*fq[key] + (1-m)*fk[key] for key in fq.keys()}\n",
    "\n",
    "def pretrain(epoches, f_q, train_loader, optimizer, criterion, t, m, K, model):\n",
    "    f_k = model()\n",
    "    f_q.train()\n",
    "    f_k.train()\n",
    "    \n",
    "    # initializing queue \n",
    "    queue = []\n",
    "    for i, (x, _) in enumerate(train_loader, 0):\n",
    "        if (i*x.size(0) >= K):\n",
    "            break\n",
    "        queue.append(f_k(x).detach().numpy())\n",
    "    queue = torch.Tensor(queue)\n",
    "    \n",
    "    C = queue.size(2) # num of classes \n",
    "  \n",
    "    for epoch in range(epoches):\n",
    "        f_q.train()\n",
    "        print(\"Pre-train Epoch %d\" % (epoch + 1))\n",
    "        running_loss, correct = 0.0, 0.0\n",
    "        \n",
    "        f_k.load_state_dict(f_q.state_dict()) # initialize\n",
    "        for i, (x, _) in enumerate(train_loader, 0):\n",
    "            N = x.size(0)\n",
    "            # augmentation\n",
    "            # TODO: лучше запилить аугментацию в DataLoader\n",
    "            x_q, x_k = torch.Tensor(x.size()),torch.Tensor(x.size())\n",
    "            for j in np.arange(4):\n",
    "                x_q[j] = aug_transform(x[j])\n",
    "                x_k[j] = aug_transform(x[j])\n",
    "            \n",
    "            q = f_q(x_q) # queries: NxC\n",
    "            k = f_k(x_k) # keys: NxC\n",
    "            k = k.detach() # no gradient to keys\n",
    "            \n",
    "            # positive logits: Nx1\n",
    "            l_pos = torch.matmul(q.view(N,1,C), k.view(N,C,1)).view(N, 1)\n",
    "            # negative logits: NxK\n",
    "            l_neg = torch.mm(q.view(N,C), queue.view(K,C).transpose(0,1))\n",
    "            # logits: Nx(1+K)\n",
    "            logits = torch.cat((l_pos, l_neg), dim=1)\n",
    "            \n",
    "            labels = torch.LongTensor(N).zero_()\n",
    "            loss = criterion(logits/t, labels)\n",
    "            loss.backward()\n",
    "            optimizer.step()\n",
    "            optimizer.zero_grad()\n",
    "            \n",
    "            # momentum update: key network\n",
    "            f_k.load_state_dict(momentum_update(m, f_k.state_dict(), f_q.state_dict()))\n",
    "            # update dictionary\n",
    "            queue[:-1] = queue[1:] # dequeue the earliest minibatch\n",
    "            queue[-1] = k # enqueue the current minibatch\n",
    "\n",
    "            # print statistics\n",
    "            running_loss += loss.item()\n",
    "            \n",
    "            if i % 2500 == 2499:\n",
    "                print('[%d, %d] (%d%%)\\t loss: %.3f,\\t' %\n",
    "                      (i + 1, len(train_loader), 100. * (i+1) / len(train_loader), \n",
    "                       running_loss / 2500 ))\n",
    "                correct = 0.0\n",
    "                running_loss = 0.0\n",
    "        validate(f_q, test_loader, nn.CrossEntropyLoss(), [], [])\n",
    "\n",
    "    print('Finished Pre-training')"
   ]
  },
  {
   "cell_type": "code",
   "execution_count": 45,
   "metadata": {
    "scrolled": false
   },
   "outputs": [
    {
     "name": "stdout",
     "output_type": "stream",
     "text": [
      "Pre-train Epoch 1\n",
      "[2500, 12500] (20%)\t loss: 1.930,\t\n",
      "[5000, 12500] (40%)\t loss: 1.371,\t\n",
      "[7500, 12500] (60%)\t loss: 1.269,\t\n",
      "[10000, 12500] (80%)\t loss: 1.155,\t\n",
      "[12500, 12500] (100%)\t loss: 1.109,\t\n",
      "Test average loss: 2.650\t accuracy: (9.670%)\n",
      "\n",
      "Pre-train Epoch 2\n",
      "[2500, 12500] (20%)\t loss: 1.056,\t\n",
      "[5000, 12500] (40%)\t loss: 1.055,\t\n",
      "[7500, 12500] (60%)\t loss: 0.960,\t\n",
      "[10000, 12500] (80%)\t loss: 0.942,\t\n",
      "[12500, 12500] (100%)\t loss: 0.908,\t\n",
      "Test average loss: 2.725\t accuracy: (9.940%)\n",
      "\n",
      "Pre-train Epoch 3\n",
      "[2500, 12500] (20%)\t loss: 0.899,\t\n",
      "[5000, 12500] (40%)\t loss: 0.864,\t\n",
      "[7500, 12500] (60%)\t loss: 0.872,\t\n",
      "[10000, 12500] (80%)\t loss: 0.812,\t\n",
      "[12500, 12500] (100%)\t loss: 0.822,\t\n",
      "Test average loss: 2.736\t accuracy: (4.920%)\n",
      "\n",
      "Pre-train Epoch 4\n",
      "[2500, 12500] (20%)\t loss: 0.762,\t\n",
      "[5000, 12500] (40%)\t loss: 0.758,\t\n",
      "[7500, 12500] (60%)\t loss: 0.773,\t\n",
      "[10000, 12500] (80%)\t loss: 0.756,\t\n",
      "[12500, 12500] (100%)\t loss: 0.758,\t\n",
      "Test average loss: 2.601\t accuracy: (9.950%)\n",
      "\n",
      "Pre-train Epoch 5\n",
      "[2500, 12500] (20%)\t loss: 0.722,\t\n",
      "[5000, 12500] (40%)\t loss: 0.690,\t\n",
      "[7500, 12500] (60%)\t loss: 0.706,\t\n",
      "[10000, 12500] (80%)\t loss: 0.690,\t\n",
      "[12500, 12500] (100%)\t loss: 0.679,\t\n",
      "Test average loss: 2.617\t accuracy: (11.000%)\n",
      "\n",
      "Pre-train Epoch 6\n",
      "[2500, 12500] (20%)\t loss: 0.704,\t\n",
      "[5000, 12500] (40%)\t loss: 0.694,\t\n",
      "[7500, 12500] (60%)\t loss: 0.692,\t\n",
      "[10000, 12500] (80%)\t loss: 0.629,\t\n",
      "[12500, 12500] (100%)\t loss: 0.626,\t\n",
      "Test average loss: 2.542\t accuracy: (9.120%)\n",
      "\n",
      "Pre-train Epoch 7\n",
      "[2500, 12500] (20%)\t loss: 0.639,\t\n",
      "[5000, 12500] (40%)\t loss: 0.642,\t\n",
      "[7500, 12500] (60%)\t loss: 0.626,\t\n",
      "[10000, 12500] (80%)\t loss: 0.626,\t\n",
      "[12500, 12500] (100%)\t loss: 0.616,\t\n",
      "Test average loss: 2.501\t accuracy: (9.430%)\n",
      "\n",
      "Pre-train Epoch 8\n",
      "[2500, 12500] (20%)\t loss: 0.625,\t\n",
      "[5000, 12500] (40%)\t loss: 0.612,\t\n",
      "[7500, 12500] (60%)\t loss: 0.585,\t\n",
      "[10000, 12500] (80%)\t loss: 0.621,\t\n",
      "[12500, 12500] (100%)\t loss: 0.608,\t\n",
      "Test average loss: 2.502\t accuracy: (10.450%)\n",
      "\n",
      "Pre-train Epoch 9\n",
      "[2500, 12500] (20%)\t loss: 0.577,\t\n",
      "[5000, 12500] (40%)\t loss: 0.583,\t\n",
      "[7500, 12500] (60%)\t loss: 0.572,\t\n",
      "[10000, 12500] (80%)\t loss: 0.591,\t\n",
      "[12500, 12500] (100%)\t loss: 0.588,\t\n",
      "Test average loss: 2.511\t accuracy: (9.390%)\n",
      "\n",
      "Pre-train Epoch 10\n",
      "[2500, 12500] (20%)\t loss: 0.577,\t\n",
      "[5000, 12500] (40%)\t loss: 0.578,\t\n",
      "[7500, 12500] (60%)\t loss: 0.595,\t\n",
      "[10000, 12500] (80%)\t loss: 0.567,\t\n",
      "[12500, 12500] (100%)\t loss: 0.602,\t\n",
      "Test average loss: 2.565\t accuracy: (10.120%)\n",
      "\n",
      "Finished Pre-training\n"
     ]
    }
   ],
   "source": [
    "pretrained_model = Net()\n",
    "\n",
    "pretrained_optimizer = optim.SGD(pretrained_model.parameters(), lr=0.0001, momentum=0.9)\n",
    "criterion = nn.CrossEntropyLoss()\n",
    "\n",
    "pretrain(10, pretrained_model, train_loader, pretrained_optimizer, criterion, 0.07, 0.999, 40, Net)\n",
    "torch.save(pretrained_model.state_dict(), \"./pretrained_model.pth\")"
   ]
  },
  {
   "cell_type": "markdown",
   "metadata": {},
   "source": [
    "## Standard model"
   ]
  },
  {
   "cell_type": "code",
   "execution_count": 9,
   "metadata": {},
   "outputs": [
    {
     "name": "stdout",
     "output_type": "stream",
     "text": [
      "Epoch 1\n",
      "[2500, 12500] (20%)\t loss: 1.880,\t accuracy: 31.260\n",
      "[5000, 12500] (40%)\t loss: 1.715,\t accuracy: 38.300\n",
      "[7500, 12500] (60%)\t loss: 1.650,\t accuracy: 41.440\n",
      "[10000, 12500] (80%)\t loss: 1.618,\t accuracy: 42.190\n",
      "[12500, 12500] (100%)\t loss: 1.577,\t accuracy: 44.510\n",
      "Test average loss: 1.339\t accuracy: (52.370%)\n",
      "\n",
      "Epoch 2\n",
      "[2500, 12500] (20%)\t loss: 1.534,\t accuracy: 45.940\n",
      "[5000, 12500] (40%)\t loss: 1.525,\t accuracy: 46.740\n",
      "[7500, 12500] (60%)\t loss: 1.501,\t accuracy: 47.440\n",
      "[10000, 12500] (80%)\t loss: 1.493,\t accuracy: 47.500\n",
      "[12500, 12500] (100%)\t loss: 1.486,\t accuracy: 48.320\n",
      "Test average loss: 1.215\t accuracy: (56.950%)\n",
      "\n",
      "Epoch 3\n",
      "[2500, 12500] (20%)\t loss: 1.455,\t accuracy: 49.510\n",
      "[5000, 12500] (40%)\t loss: 1.446,\t accuracy: 49.630\n",
      "[7500, 12500] (60%)\t loss: 1.429,\t accuracy: 49.650\n",
      "[10000, 12500] (80%)\t loss: 1.438,\t accuracy: 49.580\n",
      "[12500, 12500] (100%)\t loss: 1.414,\t accuracy: 50.830\n",
      "Test average loss: 1.154\t accuracy: (59.570%)\n",
      "\n",
      "Epoch 4\n",
      "[2500, 12500] (20%)\t loss: 1.384,\t accuracy: 51.230\n",
      "[5000, 12500] (40%)\t loss: 1.408,\t accuracy: 50.760\n",
      "[7500, 12500] (60%)\t loss: 1.392,\t accuracy: 51.280\n",
      "[10000, 12500] (80%)\t loss: 1.385,\t accuracy: 51.290\n",
      "[12500, 12500] (100%)\t loss: 1.391,\t accuracy: 51.630\n",
      "Test average loss: 1.134\t accuracy: (60.330%)\n",
      "\n",
      "Epoch 5\n",
      "[2500, 12500] (20%)\t loss: 1.362,\t accuracy: 52.400\n",
      "[5000, 12500] (40%)\t loss: 1.349,\t accuracy: 53.510\n",
      "[7500, 12500] (60%)\t loss: 1.369,\t accuracy: 52.710\n",
      "[10000, 12500] (80%)\t loss: 1.362,\t accuracy: 52.740\n",
      "[12500, 12500] (100%)\t loss: 1.372,\t accuracy: 52.590\n",
      "Test average loss: 1.102\t accuracy: (61.900%)\n",
      "\n",
      "Epoch 6\n",
      "[2500, 12500] (20%)\t loss: 1.326,\t accuracy: 53.290\n",
      "[5000, 12500] (40%)\t loss: 1.321,\t accuracy: 54.570\n",
      "[7500, 12500] (60%)\t loss: 1.358,\t accuracy: 52.910\n",
      "[10000, 12500] (80%)\t loss: 1.341,\t accuracy: 53.730\n",
      "[12500, 12500] (100%)\t loss: 1.338,\t accuracy: 53.650\n",
      "Test average loss: 1.149\t accuracy: (60.450%)\n",
      "\n",
      "Epoch 7\n",
      "[2500, 12500] (20%)\t loss: 1.337,\t accuracy: 54.220\n",
      "[5000, 12500] (40%)\t loss: 1.314,\t accuracy: 54.840\n",
      "[7500, 12500] (60%)\t loss: 1.326,\t accuracy: 53.900\n",
      "[10000, 12500] (80%)\t loss: 1.338,\t accuracy: 54.180\n",
      "[12500, 12500] (100%)\t loss: 1.312,\t accuracy: 54.810\n",
      "Test average loss: 1.102\t accuracy: (62.040%)\n",
      "\n",
      "Epoch 8\n",
      "[2500, 12500] (20%)\t loss: 1.298,\t accuracy: 54.430\n",
      "[5000, 12500] (40%)\t loss: 1.306,\t accuracy: 55.210\n",
      "[7500, 12500] (60%)\t loss: 1.309,\t accuracy: 54.680\n",
      "[10000, 12500] (80%)\t loss: 1.315,\t accuracy: 54.550\n",
      "[12500, 12500] (100%)\t loss: 1.313,\t accuracy: 54.730\n",
      "Test average loss: 1.054\t accuracy: (63.950%)\n",
      "\n",
      "Epoch 9\n",
      "[2500, 12500] (20%)\t loss: 1.285,\t accuracy: 55.980\n",
      "[5000, 12500] (40%)\t loss: 1.283,\t accuracy: 55.720\n",
      "[7500, 12500] (60%)\t loss: 1.298,\t accuracy: 55.530\n",
      "[10000, 12500] (80%)\t loss: 1.282,\t accuracy: 56.340\n",
      "[12500, 12500] (100%)\t loss: 1.298,\t accuracy: 55.240\n",
      "Test average loss: 1.067\t accuracy: (62.750%)\n",
      "\n",
      "Epoch 10\n",
      "[2500, 12500] (20%)\t loss: 1.292,\t accuracy: 56.030\n",
      "[5000, 12500] (40%)\t loss: 1.265,\t accuracy: 57.130\n",
      "[7500, 12500] (60%)\t loss: 1.296,\t accuracy: 55.760\n",
      "[10000, 12500] (80%)\t loss: 1.278,\t accuracy: 55.740\n",
      "[12500, 12500] (100%)\t loss: 1.305,\t accuracy: 54.940\n",
      "Test average loss: 1.053\t accuracy: (63.880%)\n",
      "\n",
      "Finished Training\n"
     ]
    }
   ],
   "source": [
    "model = Net()\n",
    "train_loss_vector, test_loss_vector, train_accuracy_vector, test_accuracy_vector = [],[],[],[]\n",
    "\n",
    "criterion = nn.CrossEntropyLoss()\n",
    "optimizer = optim.Adam(model.parameters(), lr=0.001)\n",
    "\n",
    "for epoch in range(10):\n",
    "    print(\"Epoch %d\" % (epoch + 1))\n",
    "    train(model, train_loader, optimizer, criterion, train_loss_vector, train_accuracy_vector)\n",
    "    validate(model, test_loader, criterion, test_loss_vector, test_accuracy_vector)\n",
    "print('Finished Training')"
   ]
  },
  {
   "cell_type": "markdown",
   "metadata": {},
   "source": [
    "## Pretrained model"
   ]
  },
  {
   "cell_type": "code",
   "execution_count": 46,
   "metadata": {},
   "outputs": [
    {
     "name": "stdout",
     "output_type": "stream",
     "text": [
      "Epoch 1\n",
      "[2500, 12500] (20%)\t loss: 1.904,\t accuracy: 31.420\n",
      "[5000, 12500] (40%)\t loss: 1.736,\t accuracy: 37.870\n",
      "[7500, 12500] (60%)\t loss: 1.702,\t accuracy: 39.370\n",
      "[10000, 12500] (80%)\t loss: 1.668,\t accuracy: 40.870\n",
      "[12500, 12500] (100%)\t loss: 1.628,\t accuracy: 41.460\n",
      "Test average loss: 1.403\t accuracy: (50.150%)\n",
      "\n",
      "Epoch 2\n",
      "[2500, 12500] (20%)\t loss: 1.580,\t accuracy: 43.670\n",
      "[5000, 12500] (40%)\t loss: 1.583,\t accuracy: 44.230\n",
      "[7500, 12500] (60%)\t loss: 1.571,\t accuracy: 45.180\n",
      "[10000, 12500] (80%)\t loss: 1.560,\t accuracy: 44.880\n",
      "[12500, 12500] (100%)\t loss: 1.532,\t accuracy: 46.300\n",
      "Test average loss: 1.278\t accuracy: (54.560%)\n",
      "\n",
      "Epoch 3\n",
      "[2500, 12500] (20%)\t loss: 1.521,\t accuracy: 46.870\n",
      "[5000, 12500] (40%)\t loss: 1.500,\t accuracy: 48.180\n",
      "[7500, 12500] (60%)\t loss: 1.506,\t accuracy: 47.840\n",
      "[10000, 12500] (80%)\t loss: 1.489,\t accuracy: 48.270\n",
      "[12500, 12500] (100%)\t loss: 1.477,\t accuracy: 48.320\n",
      "Test average loss: 1.232\t accuracy: (56.090%)\n",
      "\n",
      "Epoch 4\n",
      "[2500, 12500] (20%)\t loss: 1.416,\t accuracy: 50.420\n",
      "[5000, 12500] (40%)\t loss: 1.453,\t accuracy: 49.470\n",
      "[7500, 12500] (60%)\t loss: 1.443,\t accuracy: 49.620\n",
      "[10000, 12500] (80%)\t loss: 1.435,\t accuracy: 49.730\n",
      "[12500, 12500] (100%)\t loss: 1.427,\t accuracy: 49.870\n",
      "Test average loss: 1.180\t accuracy: (58.410%)\n",
      "\n",
      "Epoch 5\n",
      "[2500, 12500] (20%)\t loss: 1.428,\t accuracy: 49.780\n",
      "[5000, 12500] (40%)\t loss: 1.407,\t accuracy: 50.340\n",
      "[7500, 12500] (60%)\t loss: 1.419,\t accuracy: 50.140\n",
      "[10000, 12500] (80%)\t loss: 1.418,\t accuracy: 50.470\n",
      "[12500, 12500] (100%)\t loss: 1.395,\t accuracy: 51.700\n",
      "Test average loss: 1.150\t accuracy: (59.610%)\n",
      "\n",
      "Epoch 6\n",
      "[2500, 12500] (20%)\t loss: 1.375,\t accuracy: 51.690\n",
      "[5000, 12500] (40%)\t loss: 1.397,\t accuracy: 51.610\n",
      "[7500, 12500] (60%)\t loss: 1.385,\t accuracy: 52.240\n",
      "[10000, 12500] (80%)\t loss: 1.387,\t accuracy: 51.950\n",
      "[12500, 12500] (100%)\t loss: 1.378,\t accuracy: 52.440\n",
      "Test average loss: 1.140\t accuracy: (60.330%)\n",
      "\n",
      "Epoch 7\n",
      "[2500, 12500] (20%)\t loss: 1.359,\t accuracy: 52.800\n",
      "[5000, 12500] (40%)\t loss: 1.389,\t accuracy: 52.180\n",
      "[7500, 12500] (60%)\t loss: 1.370,\t accuracy: 53.010\n",
      "[10000, 12500] (80%)\t loss: 1.371,\t accuracy: 53.290\n",
      "[12500, 12500] (100%)\t loss: 1.395,\t accuracy: 51.630\n",
      "Test average loss: 1.129\t accuracy: (60.270%)\n",
      "\n",
      "Epoch 8\n",
      "[2500, 12500] (20%)\t loss: 1.345,\t accuracy: 53.890\n",
      "[5000, 12500] (40%)\t loss: 1.340,\t accuracy: 53.610\n",
      "[7500, 12500] (60%)\t loss: 1.334,\t accuracy: 53.730\n",
      "[10000, 12500] (80%)\t loss: 1.361,\t accuracy: 52.880\n",
      "[12500, 12500] (100%)\t loss: 1.360,\t accuracy: 53.050\n",
      "Test average loss: 1.113\t accuracy: (61.310%)\n",
      "\n",
      "Epoch 9\n",
      "[2500, 12500] (20%)\t loss: 1.345,\t accuracy: 53.420\n",
      "[5000, 12500] (40%)\t loss: 1.333,\t accuracy: 53.880\n",
      "[7500, 12500] (60%)\t loss: 1.321,\t accuracy: 54.150\n",
      "[10000, 12500] (80%)\t loss: 1.338,\t accuracy: 54.030\n",
      "[12500, 12500] (100%)\t loss: 1.334,\t accuracy: 54.130\n",
      "Test average loss: 1.103\t accuracy: (61.410%)\n",
      "\n",
      "Epoch 10\n",
      "[2500, 12500] (20%)\t loss: 1.308,\t accuracy: 54.990\n",
      "[5000, 12500] (40%)\t loss: 1.346,\t accuracy: 53.800\n",
      "[7500, 12500] (60%)\t loss: 1.324,\t accuracy: 54.470\n",
      "[10000, 12500] (80%)\t loss: 1.320,\t accuracy: 53.900\n",
      "[12500, 12500] (100%)\t loss: 1.318,\t accuracy: 54.590\n",
      "Test average loss: 1.101\t accuracy: (61.860%)\n",
      "\n",
      "Finished Training\n"
     ]
    }
   ],
   "source": [
    "pret_model = Net()\n",
    "pret_model.load_state_dict(torch.load(\"./pretrained_model.pth\"))\n",
    "pret_loss_vector, pret_test_loss_vector, pret_accuracy_vector, pret_test_accuracy_vector = [],[],[],[]\n",
    "\n",
    "criterion = nn.CrossEntropyLoss()\n",
    "optimizer = optim.Adam(pret_model.parameters(), lr=0.001)\n",
    "\n",
    "for epoch in range(10):\n",
    "    print(\"Epoch %d\" % (epoch + 1))\n",
    "    train(pret_model, train_loader, optimizer, criterion, pret_loss_vector, pret_accuracy_vector)\n",
    "    validate(pret_model, test_loader, criterion, pret_test_loss_vector, pret_test_accuracy_vector)\n",
    "print('Finished Training')"
   ]
  },
  {
   "cell_type": "code",
   "execution_count": 29,
   "metadata": {},
   "outputs": [],
   "source": [
    "import plotly.graph_objects as go"
   ]
  },
  {
   "cell_type": "code",
   "execution_count": 30,
   "metadata": {},
   "outputs": [],
   "source": [
    "def draw_graph(strm, ptrm, stm, ptm, met):\n",
    "    x = np.array([k for k in np.arange(11)])\n",
    "\n",
    "    fig = go.Figure()\n",
    "    fig.add_trace(go.Scatter(x=x, y=strm, mode='lines', name=\"Standard training model\", line_color='rgb(110,200,250)', line_width=3))\n",
    "    fig.add_trace(go.Scatter(x=x, y=ptrm, mode='lines', name=\"Pretrained training model \", line_color='rgb(250,110,200)', line_width=3))\n",
    "    fig.add_trace(go.Scatter(x=x, y=stm, mode='lines', name=\"Standard test model\", line_color='rgb(80,100,180)', line_width=3))\n",
    "    fig.add_trace(go.Scatter(x=x, y=ptm, mode='lines', name=\"Pretrained test model\", line_color='rgb(210,70,100)', line_width=3))\n",
    "    fig.update_layout(\n",
    "        xaxis=go.layout.XAxis(title=\"Epoch\"),\n",
    "        yaxis=go.layout.YAxis(title=met)\n",
    "    )\n",
    "    fig.show()"
   ]
  },
  {
   "cell_type": "markdown",
   "metadata": {},
   "source": [
    "## Loss"
   ]
  },
  {
   "cell_type": "code",
   "execution_count": 47,
   "metadata": {},
   "outputs": [
    {
     "data": {
      "application/vnd.plotly.v1+json": {
       "config": {
        "plotlyServerURL": "https://plot.ly"
       },
       "data": [
        {
         "line": {
          "color": "rgb(110,200,250)",
          "width": 3
         },
         "mode": "lines",
         "name": "Standard training model",
         "type": "scatter",
         "x": [
          0,
          1,
          2,
          3,
          4,
          5,
          6,
          7,
          8,
          9,
          10
         ],
         "y": [
          1.6880607841038704,
          1.5078226742839813,
          1.4363250618338586,
          1.3920272438383103,
          1.3626739378595352,
          1.336713754607439,
          1.3256426250326634,
          1.308241310455799,
          1.289177242013216,
          1.2872858778214455
         ]
        },
        {
         "line": {
          "color": "rgb(250,110,200)",
          "width": 3
         },
         "mode": "lines",
         "name": "Pretrained training model ",
         "type": "scatter",
         "x": [
          0,
          1,
          2,
          3,
          4,
          5,
          6,
          7,
          8,
          9,
          10
         ],
         "y": [
          1.7275701317763328,
          1.5651816738247872,
          1.4984114466071128,
          1.4346819264268875,
          1.413391720290184,
          1.3845631997382641,
          1.3767647616171836,
          1.348120696015358,
          1.3343063047754764,
          1.3232822830438613
         ]
        },
        {
         "line": {
          "color": "rgb(80,100,180)",
          "width": 3
         },
         "mode": "lines",
         "name": "Standard test model",
         "type": "scatter",
         "x": [
          0,
          1,
          2,
          3,
          4,
          5,
          6,
          7,
          8,
          9,
          10
         ],
         "y": [
          1.3392870359301567,
          1.215099556171894,
          1.1535064055562019,
          1.1341262831568717,
          1.1019310325145721,
          1.1491257401406765,
          1.1024323503851892,
          1.054113875168562,
          1.067374809229374,
          1.0526127597928048
         ]
        },
        {
         "line": {
          "color": "rgb(210,70,100)",
          "width": 3
         },
         "mode": "lines",
         "name": "Pretrained test model",
         "type": "scatter",
         "x": [
          0,
          1,
          2,
          3,
          4,
          5,
          6,
          7,
          8,
          9,
          10
         ],
         "y": [
          1.402884458076954,
          1.2784185724854469,
          1.2321811151146889,
          1.1801656678080559,
          1.1503027961611747,
          1.1404343085169792,
          1.1293330979049205,
          1.1134710974991322,
          1.1034930654108523,
          1.1006396735012531
         ]
        }
       ],
       "layout": {
        "template": {
         "data": {
          "bar": [
           {
            "error_x": {
             "color": "#2a3f5f"
            },
            "error_y": {
             "color": "#2a3f5f"
            },
            "marker": {
             "line": {
              "color": "#E5ECF6",
              "width": 0.5
             }
            },
            "type": "bar"
           }
          ],
          "barpolar": [
           {
            "marker": {
             "line": {
              "color": "#E5ECF6",
              "width": 0.5
             }
            },
            "type": "barpolar"
           }
          ],
          "carpet": [
           {
            "aaxis": {
             "endlinecolor": "#2a3f5f",
             "gridcolor": "white",
             "linecolor": "white",
             "minorgridcolor": "white",
             "startlinecolor": "#2a3f5f"
            },
            "baxis": {
             "endlinecolor": "#2a3f5f",
             "gridcolor": "white",
             "linecolor": "white",
             "minorgridcolor": "white",
             "startlinecolor": "#2a3f5f"
            },
            "type": "carpet"
           }
          ],
          "choropleth": [
           {
            "colorbar": {
             "outlinewidth": 0,
             "ticks": ""
            },
            "type": "choropleth"
           }
          ],
          "contour": [
           {
            "colorbar": {
             "outlinewidth": 0,
             "ticks": ""
            },
            "colorscale": [
             [
              0,
              "#0d0887"
             ],
             [
              0.1111111111111111,
              "#46039f"
             ],
             [
              0.2222222222222222,
              "#7201a8"
             ],
             [
              0.3333333333333333,
              "#9c179e"
             ],
             [
              0.4444444444444444,
              "#bd3786"
             ],
             [
              0.5555555555555556,
              "#d8576b"
             ],
             [
              0.6666666666666666,
              "#ed7953"
             ],
             [
              0.7777777777777778,
              "#fb9f3a"
             ],
             [
              0.8888888888888888,
              "#fdca26"
             ],
             [
              1,
              "#f0f921"
             ]
            ],
            "type": "contour"
           }
          ],
          "contourcarpet": [
           {
            "colorbar": {
             "outlinewidth": 0,
             "ticks": ""
            },
            "type": "contourcarpet"
           }
          ],
          "heatmap": [
           {
            "colorbar": {
             "outlinewidth": 0,
             "ticks": ""
            },
            "colorscale": [
             [
              0,
              "#0d0887"
             ],
             [
              0.1111111111111111,
              "#46039f"
             ],
             [
              0.2222222222222222,
              "#7201a8"
             ],
             [
              0.3333333333333333,
              "#9c179e"
             ],
             [
              0.4444444444444444,
              "#bd3786"
             ],
             [
              0.5555555555555556,
              "#d8576b"
             ],
             [
              0.6666666666666666,
              "#ed7953"
             ],
             [
              0.7777777777777778,
              "#fb9f3a"
             ],
             [
              0.8888888888888888,
              "#fdca26"
             ],
             [
              1,
              "#f0f921"
             ]
            ],
            "type": "heatmap"
           }
          ],
          "heatmapgl": [
           {
            "colorbar": {
             "outlinewidth": 0,
             "ticks": ""
            },
            "colorscale": [
             [
              0,
              "#0d0887"
             ],
             [
              0.1111111111111111,
              "#46039f"
             ],
             [
              0.2222222222222222,
              "#7201a8"
             ],
             [
              0.3333333333333333,
              "#9c179e"
             ],
             [
              0.4444444444444444,
              "#bd3786"
             ],
             [
              0.5555555555555556,
              "#d8576b"
             ],
             [
              0.6666666666666666,
              "#ed7953"
             ],
             [
              0.7777777777777778,
              "#fb9f3a"
             ],
             [
              0.8888888888888888,
              "#fdca26"
             ],
             [
              1,
              "#f0f921"
             ]
            ],
            "type": "heatmapgl"
           }
          ],
          "histogram": [
           {
            "marker": {
             "colorbar": {
              "outlinewidth": 0,
              "ticks": ""
             }
            },
            "type": "histogram"
           }
          ],
          "histogram2d": [
           {
            "colorbar": {
             "outlinewidth": 0,
             "ticks": ""
            },
            "colorscale": [
             [
              0,
              "#0d0887"
             ],
             [
              0.1111111111111111,
              "#46039f"
             ],
             [
              0.2222222222222222,
              "#7201a8"
             ],
             [
              0.3333333333333333,
              "#9c179e"
             ],
             [
              0.4444444444444444,
              "#bd3786"
             ],
             [
              0.5555555555555556,
              "#d8576b"
             ],
             [
              0.6666666666666666,
              "#ed7953"
             ],
             [
              0.7777777777777778,
              "#fb9f3a"
             ],
             [
              0.8888888888888888,
              "#fdca26"
             ],
             [
              1,
              "#f0f921"
             ]
            ],
            "type": "histogram2d"
           }
          ],
          "histogram2dcontour": [
           {
            "colorbar": {
             "outlinewidth": 0,
             "ticks": ""
            },
            "colorscale": [
             [
              0,
              "#0d0887"
             ],
             [
              0.1111111111111111,
              "#46039f"
             ],
             [
              0.2222222222222222,
              "#7201a8"
             ],
             [
              0.3333333333333333,
              "#9c179e"
             ],
             [
              0.4444444444444444,
              "#bd3786"
             ],
             [
              0.5555555555555556,
              "#d8576b"
             ],
             [
              0.6666666666666666,
              "#ed7953"
             ],
             [
              0.7777777777777778,
              "#fb9f3a"
             ],
             [
              0.8888888888888888,
              "#fdca26"
             ],
             [
              1,
              "#f0f921"
             ]
            ],
            "type": "histogram2dcontour"
           }
          ],
          "mesh3d": [
           {
            "colorbar": {
             "outlinewidth": 0,
             "ticks": ""
            },
            "type": "mesh3d"
           }
          ],
          "parcoords": [
           {
            "line": {
             "colorbar": {
              "outlinewidth": 0,
              "ticks": ""
             }
            },
            "type": "parcoords"
           }
          ],
          "scatter": [
           {
            "marker": {
             "colorbar": {
              "outlinewidth": 0,
              "ticks": ""
             }
            },
            "type": "scatter"
           }
          ],
          "scatter3d": [
           {
            "line": {
             "colorbar": {
              "outlinewidth": 0,
              "ticks": ""
             }
            },
            "marker": {
             "colorbar": {
              "outlinewidth": 0,
              "ticks": ""
             }
            },
            "type": "scatter3d"
           }
          ],
          "scattercarpet": [
           {
            "marker": {
             "colorbar": {
              "outlinewidth": 0,
              "ticks": ""
             }
            },
            "type": "scattercarpet"
           }
          ],
          "scattergeo": [
           {
            "marker": {
             "colorbar": {
              "outlinewidth": 0,
              "ticks": ""
             }
            },
            "type": "scattergeo"
           }
          ],
          "scattergl": [
           {
            "marker": {
             "colorbar": {
              "outlinewidth": 0,
              "ticks": ""
             }
            },
            "type": "scattergl"
           }
          ],
          "scattermapbox": [
           {
            "marker": {
             "colorbar": {
              "outlinewidth": 0,
              "ticks": ""
             }
            },
            "type": "scattermapbox"
           }
          ],
          "scatterpolar": [
           {
            "marker": {
             "colorbar": {
              "outlinewidth": 0,
              "ticks": ""
             }
            },
            "type": "scatterpolar"
           }
          ],
          "scatterpolargl": [
           {
            "marker": {
             "colorbar": {
              "outlinewidth": 0,
              "ticks": ""
             }
            },
            "type": "scatterpolargl"
           }
          ],
          "scatterternary": [
           {
            "marker": {
             "colorbar": {
              "outlinewidth": 0,
              "ticks": ""
             }
            },
            "type": "scatterternary"
           }
          ],
          "surface": [
           {
            "colorbar": {
             "outlinewidth": 0,
             "ticks": ""
            },
            "colorscale": [
             [
              0,
              "#0d0887"
             ],
             [
              0.1111111111111111,
              "#46039f"
             ],
             [
              0.2222222222222222,
              "#7201a8"
             ],
             [
              0.3333333333333333,
              "#9c179e"
             ],
             [
              0.4444444444444444,
              "#bd3786"
             ],
             [
              0.5555555555555556,
              "#d8576b"
             ],
             [
              0.6666666666666666,
              "#ed7953"
             ],
             [
              0.7777777777777778,
              "#fb9f3a"
             ],
             [
              0.8888888888888888,
              "#fdca26"
             ],
             [
              1,
              "#f0f921"
             ]
            ],
            "type": "surface"
           }
          ],
          "table": [
           {
            "cells": {
             "fill": {
              "color": "#EBF0F8"
             },
             "line": {
              "color": "white"
             }
            },
            "header": {
             "fill": {
              "color": "#C8D4E3"
             },
             "line": {
              "color": "white"
             }
            },
            "type": "table"
           }
          ]
         },
         "layout": {
          "annotationdefaults": {
           "arrowcolor": "#2a3f5f",
           "arrowhead": 0,
           "arrowwidth": 1
          },
          "colorscale": {
           "diverging": [
            [
             0,
             "#8e0152"
            ],
            [
             0.1,
             "#c51b7d"
            ],
            [
             0.2,
             "#de77ae"
            ],
            [
             0.3,
             "#f1b6da"
            ],
            [
             0.4,
             "#fde0ef"
            ],
            [
             0.5,
             "#f7f7f7"
            ],
            [
             0.6,
             "#e6f5d0"
            ],
            [
             0.7,
             "#b8e186"
            ],
            [
             0.8,
             "#7fbc41"
            ],
            [
             0.9,
             "#4d9221"
            ],
            [
             1,
             "#276419"
            ]
           ],
           "sequential": [
            [
             0,
             "#0d0887"
            ],
            [
             0.1111111111111111,
             "#46039f"
            ],
            [
             0.2222222222222222,
             "#7201a8"
            ],
            [
             0.3333333333333333,
             "#9c179e"
            ],
            [
             0.4444444444444444,
             "#bd3786"
            ],
            [
             0.5555555555555556,
             "#d8576b"
            ],
            [
             0.6666666666666666,
             "#ed7953"
            ],
            [
             0.7777777777777778,
             "#fb9f3a"
            ],
            [
             0.8888888888888888,
             "#fdca26"
            ],
            [
             1,
             "#f0f921"
            ]
           ],
           "sequentialminus": [
            [
             0,
             "#0d0887"
            ],
            [
             0.1111111111111111,
             "#46039f"
            ],
            [
             0.2222222222222222,
             "#7201a8"
            ],
            [
             0.3333333333333333,
             "#9c179e"
            ],
            [
             0.4444444444444444,
             "#bd3786"
            ],
            [
             0.5555555555555556,
             "#d8576b"
            ],
            [
             0.6666666666666666,
             "#ed7953"
            ],
            [
             0.7777777777777778,
             "#fb9f3a"
            ],
            [
             0.8888888888888888,
             "#fdca26"
            ],
            [
             1,
             "#f0f921"
            ]
           ]
          },
          "colorway": [
           "#636efa",
           "#EF553B",
           "#00cc96",
           "#ab63fa",
           "#FFA15A",
           "#19d3f3",
           "#FF6692",
           "#B6E880",
           "#FF97FF",
           "#FECB52"
          ],
          "font": {
           "color": "#2a3f5f"
          },
          "geo": {
           "bgcolor": "white",
           "lakecolor": "white",
           "landcolor": "#E5ECF6",
           "showlakes": true,
           "showland": true,
           "subunitcolor": "white"
          },
          "hoverlabel": {
           "align": "left"
          },
          "hovermode": "closest",
          "mapbox": {
           "style": "light"
          },
          "paper_bgcolor": "white",
          "plot_bgcolor": "#E5ECF6",
          "polar": {
           "angularaxis": {
            "gridcolor": "white",
            "linecolor": "white",
            "ticks": ""
           },
           "bgcolor": "#E5ECF6",
           "radialaxis": {
            "gridcolor": "white",
            "linecolor": "white",
            "ticks": ""
           }
          },
          "scene": {
           "xaxis": {
            "backgroundcolor": "#E5ECF6",
            "gridcolor": "white",
            "gridwidth": 2,
            "linecolor": "white",
            "showbackground": true,
            "ticks": "",
            "zerolinecolor": "white"
           },
           "yaxis": {
            "backgroundcolor": "#E5ECF6",
            "gridcolor": "white",
            "gridwidth": 2,
            "linecolor": "white",
            "showbackground": true,
            "ticks": "",
            "zerolinecolor": "white"
           },
           "zaxis": {
            "backgroundcolor": "#E5ECF6",
            "gridcolor": "white",
            "gridwidth": 2,
            "linecolor": "white",
            "showbackground": true,
            "ticks": "",
            "zerolinecolor": "white"
           }
          },
          "shapedefaults": {
           "line": {
            "color": "#2a3f5f"
           }
          },
          "ternary": {
           "aaxis": {
            "gridcolor": "white",
            "linecolor": "white",
            "ticks": ""
           },
           "baxis": {
            "gridcolor": "white",
            "linecolor": "white",
            "ticks": ""
           },
           "bgcolor": "#E5ECF6",
           "caxis": {
            "gridcolor": "white",
            "linecolor": "white",
            "ticks": ""
           }
          },
          "title": {
           "x": 0.05
          },
          "xaxis": {
           "automargin": true,
           "gridcolor": "white",
           "linecolor": "white",
           "ticks": "",
           "zerolinecolor": "white",
           "zerolinewidth": 2
          },
          "yaxis": {
           "automargin": true,
           "gridcolor": "white",
           "linecolor": "white",
           "ticks": "",
           "zerolinecolor": "white",
           "zerolinewidth": 2
          }
         }
        },
        "xaxis": {
         "title": {
          "text": "Epoch"
         }
        },
        "yaxis": {
         "title": {
          "text": "Loss"
         }
        }
       }
      },
      "text/html": [
       "<div>\n",
       "        \n",
       "        \n",
       "            <div id=\"a2361949-296f-409b-a684-21c2f5508a39\" class=\"plotly-graph-div\" style=\"height:525px; width:100%;\"></div>\n",
       "            <script type=\"text/javascript\">\n",
       "                require([\"plotly\"], function(Plotly) {\n",
       "                    window.PLOTLYENV=window.PLOTLYENV || {};\n",
       "                    \n",
       "                if (document.getElementById(\"a2361949-296f-409b-a684-21c2f5508a39\")) {\n",
       "                    Plotly.newPlot(\n",
       "                        'a2361949-296f-409b-a684-21c2f5508a39',\n",
       "                        [{\"line\": {\"color\": \"rgb(110,200,250)\", \"width\": 3}, \"mode\": \"lines\", \"name\": \"Standard training model\", \"type\": \"scatter\", \"x\": [0, 1, 2, 3, 4, 5, 6, 7, 8, 9, 10], \"y\": [1.6880607841038704, 1.5078226742839813, 1.4363250618338586, 1.3920272438383103, 1.3626739378595352, 1.336713754607439, 1.3256426250326634, 1.308241310455799, 1.289177242013216, 1.2872858778214455]}, {\"line\": {\"color\": \"rgb(250,110,200)\", \"width\": 3}, \"mode\": \"lines\", \"name\": \"Pretrained training model \", \"type\": \"scatter\", \"x\": [0, 1, 2, 3, 4, 5, 6, 7, 8, 9, 10], \"y\": [1.7275701317763328, 1.5651816738247872, 1.4984114466071128, 1.4346819264268875, 1.413391720290184, 1.3845631997382641, 1.3767647616171836, 1.348120696015358, 1.3343063047754764, 1.3232822830438613]}, {\"line\": {\"color\": \"rgb(80,100,180)\", \"width\": 3}, \"mode\": \"lines\", \"name\": \"Standard test model\", \"type\": \"scatter\", \"x\": [0, 1, 2, 3, 4, 5, 6, 7, 8, 9, 10], \"y\": [1.3392870359301567, 1.215099556171894, 1.1535064055562019, 1.1341262831568717, 1.1019310325145721, 1.1491257401406765, 1.1024323503851892, 1.054113875168562, 1.067374809229374, 1.0526127597928048]}, {\"line\": {\"color\": \"rgb(210,70,100)\", \"width\": 3}, \"mode\": \"lines\", \"name\": \"Pretrained test model\", \"type\": \"scatter\", \"x\": [0, 1, 2, 3, 4, 5, 6, 7, 8, 9, 10], \"y\": [1.402884458076954, 1.2784185724854469, 1.2321811151146889, 1.1801656678080559, 1.1503027961611747, 1.1404343085169792, 1.1293330979049205, 1.1134710974991322, 1.1034930654108523, 1.1006396735012531]}],\n",
       "                        {\"template\": {\"data\": {\"bar\": [{\"error_x\": {\"color\": \"#2a3f5f\"}, \"error_y\": {\"color\": \"#2a3f5f\"}, \"marker\": {\"line\": {\"color\": \"#E5ECF6\", \"width\": 0.5}}, \"type\": \"bar\"}], \"barpolar\": [{\"marker\": {\"line\": {\"color\": \"#E5ECF6\", \"width\": 0.5}}, \"type\": \"barpolar\"}], \"carpet\": [{\"aaxis\": {\"endlinecolor\": \"#2a3f5f\", \"gridcolor\": \"white\", \"linecolor\": \"white\", \"minorgridcolor\": \"white\", \"startlinecolor\": \"#2a3f5f\"}, \"baxis\": {\"endlinecolor\": \"#2a3f5f\", \"gridcolor\": \"white\", \"linecolor\": \"white\", \"minorgridcolor\": \"white\", \"startlinecolor\": \"#2a3f5f\"}, \"type\": \"carpet\"}], \"choropleth\": [{\"colorbar\": {\"outlinewidth\": 0, \"ticks\": \"\"}, \"type\": \"choropleth\"}], \"contour\": [{\"colorbar\": {\"outlinewidth\": 0, \"ticks\": \"\"}, \"colorscale\": [[0.0, \"#0d0887\"], [0.1111111111111111, \"#46039f\"], [0.2222222222222222, \"#7201a8\"], [0.3333333333333333, \"#9c179e\"], [0.4444444444444444, \"#bd3786\"], [0.5555555555555556, \"#d8576b\"], [0.6666666666666666, \"#ed7953\"], [0.7777777777777778, \"#fb9f3a\"], [0.8888888888888888, \"#fdca26\"], [1.0, \"#f0f921\"]], \"type\": \"contour\"}], \"contourcarpet\": [{\"colorbar\": {\"outlinewidth\": 0, \"ticks\": \"\"}, \"type\": \"contourcarpet\"}], \"heatmap\": [{\"colorbar\": {\"outlinewidth\": 0, \"ticks\": \"\"}, \"colorscale\": [[0.0, \"#0d0887\"], [0.1111111111111111, \"#46039f\"], [0.2222222222222222, \"#7201a8\"], [0.3333333333333333, \"#9c179e\"], [0.4444444444444444, \"#bd3786\"], [0.5555555555555556, \"#d8576b\"], [0.6666666666666666, \"#ed7953\"], [0.7777777777777778, \"#fb9f3a\"], [0.8888888888888888, \"#fdca26\"], [1.0, \"#f0f921\"]], \"type\": \"heatmap\"}], \"heatmapgl\": [{\"colorbar\": {\"outlinewidth\": 0, \"ticks\": \"\"}, \"colorscale\": [[0.0, \"#0d0887\"], [0.1111111111111111, \"#46039f\"], [0.2222222222222222, \"#7201a8\"], [0.3333333333333333, \"#9c179e\"], [0.4444444444444444, \"#bd3786\"], [0.5555555555555556, \"#d8576b\"], [0.6666666666666666, \"#ed7953\"], [0.7777777777777778, \"#fb9f3a\"], [0.8888888888888888, \"#fdca26\"], [1.0, \"#f0f921\"]], \"type\": \"heatmapgl\"}], \"histogram\": [{\"marker\": {\"colorbar\": {\"outlinewidth\": 0, \"ticks\": \"\"}}, \"type\": \"histogram\"}], \"histogram2d\": [{\"colorbar\": {\"outlinewidth\": 0, \"ticks\": \"\"}, \"colorscale\": [[0.0, \"#0d0887\"], [0.1111111111111111, \"#46039f\"], [0.2222222222222222, \"#7201a8\"], [0.3333333333333333, \"#9c179e\"], [0.4444444444444444, \"#bd3786\"], [0.5555555555555556, \"#d8576b\"], [0.6666666666666666, \"#ed7953\"], [0.7777777777777778, \"#fb9f3a\"], [0.8888888888888888, \"#fdca26\"], [1.0, \"#f0f921\"]], \"type\": \"histogram2d\"}], \"histogram2dcontour\": [{\"colorbar\": {\"outlinewidth\": 0, \"ticks\": \"\"}, \"colorscale\": [[0.0, \"#0d0887\"], [0.1111111111111111, \"#46039f\"], [0.2222222222222222, \"#7201a8\"], [0.3333333333333333, \"#9c179e\"], [0.4444444444444444, \"#bd3786\"], [0.5555555555555556, \"#d8576b\"], [0.6666666666666666, \"#ed7953\"], [0.7777777777777778, \"#fb9f3a\"], [0.8888888888888888, \"#fdca26\"], [1.0, \"#f0f921\"]], \"type\": \"histogram2dcontour\"}], \"mesh3d\": [{\"colorbar\": {\"outlinewidth\": 0, \"ticks\": \"\"}, \"type\": \"mesh3d\"}], \"parcoords\": [{\"line\": {\"colorbar\": {\"outlinewidth\": 0, \"ticks\": \"\"}}, \"type\": \"parcoords\"}], \"scatter\": [{\"marker\": {\"colorbar\": {\"outlinewidth\": 0, \"ticks\": \"\"}}, \"type\": \"scatter\"}], \"scatter3d\": [{\"line\": {\"colorbar\": {\"outlinewidth\": 0, \"ticks\": \"\"}}, \"marker\": {\"colorbar\": {\"outlinewidth\": 0, \"ticks\": \"\"}}, \"type\": \"scatter3d\"}], \"scattercarpet\": [{\"marker\": {\"colorbar\": {\"outlinewidth\": 0, \"ticks\": \"\"}}, \"type\": \"scattercarpet\"}], \"scattergeo\": [{\"marker\": {\"colorbar\": {\"outlinewidth\": 0, \"ticks\": \"\"}}, \"type\": \"scattergeo\"}], \"scattergl\": [{\"marker\": {\"colorbar\": {\"outlinewidth\": 0, \"ticks\": \"\"}}, \"type\": \"scattergl\"}], \"scattermapbox\": [{\"marker\": {\"colorbar\": {\"outlinewidth\": 0, \"ticks\": \"\"}}, \"type\": \"scattermapbox\"}], \"scatterpolar\": [{\"marker\": {\"colorbar\": {\"outlinewidth\": 0, \"ticks\": \"\"}}, \"type\": \"scatterpolar\"}], \"scatterpolargl\": [{\"marker\": {\"colorbar\": {\"outlinewidth\": 0, \"ticks\": \"\"}}, \"type\": \"scatterpolargl\"}], \"scatterternary\": [{\"marker\": {\"colorbar\": {\"outlinewidth\": 0, \"ticks\": \"\"}}, \"type\": \"scatterternary\"}], \"surface\": [{\"colorbar\": {\"outlinewidth\": 0, \"ticks\": \"\"}, \"colorscale\": [[0.0, \"#0d0887\"], [0.1111111111111111, \"#46039f\"], [0.2222222222222222, \"#7201a8\"], [0.3333333333333333, \"#9c179e\"], [0.4444444444444444, \"#bd3786\"], [0.5555555555555556, \"#d8576b\"], [0.6666666666666666, \"#ed7953\"], [0.7777777777777778, \"#fb9f3a\"], [0.8888888888888888, \"#fdca26\"], [1.0, \"#f0f921\"]], \"type\": \"surface\"}], \"table\": [{\"cells\": {\"fill\": {\"color\": \"#EBF0F8\"}, \"line\": {\"color\": \"white\"}}, \"header\": {\"fill\": {\"color\": \"#C8D4E3\"}, \"line\": {\"color\": \"white\"}}, \"type\": \"table\"}]}, \"layout\": {\"annotationdefaults\": {\"arrowcolor\": \"#2a3f5f\", \"arrowhead\": 0, \"arrowwidth\": 1}, \"colorscale\": {\"diverging\": [[0, \"#8e0152\"], [0.1, \"#c51b7d\"], [0.2, \"#de77ae\"], [0.3, \"#f1b6da\"], [0.4, \"#fde0ef\"], [0.5, \"#f7f7f7\"], [0.6, \"#e6f5d0\"], [0.7, \"#b8e186\"], [0.8, \"#7fbc41\"], [0.9, \"#4d9221\"], [1, \"#276419\"]], \"sequential\": [[0.0, \"#0d0887\"], [0.1111111111111111, \"#46039f\"], [0.2222222222222222, \"#7201a8\"], [0.3333333333333333, \"#9c179e\"], [0.4444444444444444, \"#bd3786\"], [0.5555555555555556, \"#d8576b\"], [0.6666666666666666, \"#ed7953\"], [0.7777777777777778, \"#fb9f3a\"], [0.8888888888888888, \"#fdca26\"], [1.0, \"#f0f921\"]], \"sequentialminus\": [[0.0, \"#0d0887\"], [0.1111111111111111, \"#46039f\"], [0.2222222222222222, \"#7201a8\"], [0.3333333333333333, \"#9c179e\"], [0.4444444444444444, \"#bd3786\"], [0.5555555555555556, \"#d8576b\"], [0.6666666666666666, \"#ed7953\"], [0.7777777777777778, \"#fb9f3a\"], [0.8888888888888888, \"#fdca26\"], [1.0, \"#f0f921\"]]}, \"colorway\": [\"#636efa\", \"#EF553B\", \"#00cc96\", \"#ab63fa\", \"#FFA15A\", \"#19d3f3\", \"#FF6692\", \"#B6E880\", \"#FF97FF\", \"#FECB52\"], \"font\": {\"color\": \"#2a3f5f\"}, \"geo\": {\"bgcolor\": \"white\", \"lakecolor\": \"white\", \"landcolor\": \"#E5ECF6\", \"showlakes\": true, \"showland\": true, \"subunitcolor\": \"white\"}, \"hoverlabel\": {\"align\": \"left\"}, \"hovermode\": \"closest\", \"mapbox\": {\"style\": \"light\"}, \"paper_bgcolor\": \"white\", \"plot_bgcolor\": \"#E5ECF6\", \"polar\": {\"angularaxis\": {\"gridcolor\": \"white\", \"linecolor\": \"white\", \"ticks\": \"\"}, \"bgcolor\": \"#E5ECF6\", \"radialaxis\": {\"gridcolor\": \"white\", \"linecolor\": \"white\", \"ticks\": \"\"}}, \"scene\": {\"xaxis\": {\"backgroundcolor\": \"#E5ECF6\", \"gridcolor\": \"white\", \"gridwidth\": 2, \"linecolor\": \"white\", \"showbackground\": true, \"ticks\": \"\", \"zerolinecolor\": \"white\"}, \"yaxis\": {\"backgroundcolor\": \"#E5ECF6\", \"gridcolor\": \"white\", \"gridwidth\": 2, \"linecolor\": \"white\", \"showbackground\": true, \"ticks\": \"\", \"zerolinecolor\": \"white\"}, \"zaxis\": {\"backgroundcolor\": \"#E5ECF6\", \"gridcolor\": \"white\", \"gridwidth\": 2, \"linecolor\": \"white\", \"showbackground\": true, \"ticks\": \"\", \"zerolinecolor\": \"white\"}}, \"shapedefaults\": {\"line\": {\"color\": \"#2a3f5f\"}}, \"ternary\": {\"aaxis\": {\"gridcolor\": \"white\", \"linecolor\": \"white\", \"ticks\": \"\"}, \"baxis\": {\"gridcolor\": \"white\", \"linecolor\": \"white\", \"ticks\": \"\"}, \"bgcolor\": \"#E5ECF6\", \"caxis\": {\"gridcolor\": \"white\", \"linecolor\": \"white\", \"ticks\": \"\"}}, \"title\": {\"x\": 0.05}, \"xaxis\": {\"automargin\": true, \"gridcolor\": \"white\", \"linecolor\": \"white\", \"ticks\": \"\", \"zerolinecolor\": \"white\", \"zerolinewidth\": 2}, \"yaxis\": {\"automargin\": true, \"gridcolor\": \"white\", \"linecolor\": \"white\", \"ticks\": \"\", \"zerolinecolor\": \"white\", \"zerolinewidth\": 2}}}, \"xaxis\": {\"title\": {\"text\": \"Epoch\"}}, \"yaxis\": {\"title\": {\"text\": \"Loss\"}}},\n",
       "                        {\"responsive\": true}\n",
       "                    ).then(function(){\n",
       "                            \n",
       "var gd = document.getElementById('a2361949-296f-409b-a684-21c2f5508a39');\n",
       "var x = new MutationObserver(function (mutations, observer) {{\n",
       "        var display = window.getComputedStyle(gd).display;\n",
       "        if (!display || display === 'none') {{\n",
       "            console.log([gd, 'removed!']);\n",
       "            Plotly.purge(gd);\n",
       "            observer.disconnect();\n",
       "        }}\n",
       "}});\n",
       "\n",
       "// Listen for the removal of the full notebook cells\n",
       "var notebookContainer = gd.closest('#notebook-container');\n",
       "if (notebookContainer) {{\n",
       "    x.observe(notebookContainer, {childList: true});\n",
       "}}\n",
       "\n",
       "// Listen for the clearing of the current output cell\n",
       "var outputEl = gd.closest('.output');\n",
       "if (outputEl) {{\n",
       "    x.observe(outputEl, {childList: true});\n",
       "}}\n",
       "\n",
       "                        })\n",
       "                };\n",
       "                });\n",
       "            </script>\n",
       "        </div>"
      ]
     },
     "metadata": {},
     "output_type": "display_data"
    }
   ],
   "source": [
    "draw_graph(train_loss_vector, pret_loss_vector, test_loss_vector, pret_test_loss_vector, \"Loss\")"
   ]
  },
  {
   "cell_type": "markdown",
   "metadata": {},
   "source": [
    "## Accuracy"
   ]
  },
  {
   "cell_type": "code",
   "execution_count": 48,
   "metadata": {},
   "outputs": [
    {
     "data": {
      "application/vnd.plotly.v1+json": {
       "config": {
        "plotlyServerURL": "https://plot.ly"
       },
       "data": [
        {
         "line": {
          "color": "rgb(110,200,250)",
          "width": 3
         },
         "mode": "lines",
         "name": "Standard training model",
         "type": "scatter",
         "x": [
          0,
          1,
          2,
          3,
          4,
          5,
          6,
          7,
          8,
          9,
          10
         ],
         "y": [
          39.54,
          47.188,
          49.84,
          51.238,
          52.79,
          53.63,
          54.39,
          54.72,
          55.762,
          55.92
         ]
        },
        {
         "line": {
          "color": "rgb(250,110,200)",
          "width": 3
         },
         "mode": "lines",
         "name": "Pretrained training model ",
         "type": "scatter",
         "x": [
          0,
          1,
          2,
          3,
          4,
          5,
          6,
          7,
          8,
          9,
          10
         ],
         "y": [
          38.198,
          44.852,
          47.896,
          49.822,
          50.486,
          51.986,
          52.582,
          53.432,
          53.922,
          54.35
         ]
        },
        {
         "line": {
          "color": "rgb(80,100,180)",
          "width": 3
         },
         "mode": "lines",
         "name": "Standard test model",
         "type": "scatter",
         "x": [
          0,
          1,
          2,
          3,
          4,
          5,
          6,
          7,
          8,
          9,
          10
         ],
         "y": [
          52.37,
          56.95,
          59.57,
          60.33,
          61.9,
          60.45,
          62.04,
          63.95,
          62.75,
          63.88
         ]
        },
        {
         "line": {
          "color": "rgb(210,70,100)",
          "width": 3
         },
         "mode": "lines",
         "name": "Pretrained test model",
         "type": "scatter",
         "x": [
          0,
          1,
          2,
          3,
          4,
          5,
          6,
          7,
          8,
          9,
          10
         ],
         "y": [
          50.15,
          54.56,
          56.09,
          58.41,
          59.61,
          60.33,
          60.27,
          61.31,
          61.41,
          61.86
         ]
        }
       ],
       "layout": {
        "template": {
         "data": {
          "bar": [
           {
            "error_x": {
             "color": "#2a3f5f"
            },
            "error_y": {
             "color": "#2a3f5f"
            },
            "marker": {
             "line": {
              "color": "#E5ECF6",
              "width": 0.5
             }
            },
            "type": "bar"
           }
          ],
          "barpolar": [
           {
            "marker": {
             "line": {
              "color": "#E5ECF6",
              "width": 0.5
             }
            },
            "type": "barpolar"
           }
          ],
          "carpet": [
           {
            "aaxis": {
             "endlinecolor": "#2a3f5f",
             "gridcolor": "white",
             "linecolor": "white",
             "minorgridcolor": "white",
             "startlinecolor": "#2a3f5f"
            },
            "baxis": {
             "endlinecolor": "#2a3f5f",
             "gridcolor": "white",
             "linecolor": "white",
             "minorgridcolor": "white",
             "startlinecolor": "#2a3f5f"
            },
            "type": "carpet"
           }
          ],
          "choropleth": [
           {
            "colorbar": {
             "outlinewidth": 0,
             "ticks": ""
            },
            "type": "choropleth"
           }
          ],
          "contour": [
           {
            "colorbar": {
             "outlinewidth": 0,
             "ticks": ""
            },
            "colorscale": [
             [
              0,
              "#0d0887"
             ],
             [
              0.1111111111111111,
              "#46039f"
             ],
             [
              0.2222222222222222,
              "#7201a8"
             ],
             [
              0.3333333333333333,
              "#9c179e"
             ],
             [
              0.4444444444444444,
              "#bd3786"
             ],
             [
              0.5555555555555556,
              "#d8576b"
             ],
             [
              0.6666666666666666,
              "#ed7953"
             ],
             [
              0.7777777777777778,
              "#fb9f3a"
             ],
             [
              0.8888888888888888,
              "#fdca26"
             ],
             [
              1,
              "#f0f921"
             ]
            ],
            "type": "contour"
           }
          ],
          "contourcarpet": [
           {
            "colorbar": {
             "outlinewidth": 0,
             "ticks": ""
            },
            "type": "contourcarpet"
           }
          ],
          "heatmap": [
           {
            "colorbar": {
             "outlinewidth": 0,
             "ticks": ""
            },
            "colorscale": [
             [
              0,
              "#0d0887"
             ],
             [
              0.1111111111111111,
              "#46039f"
             ],
             [
              0.2222222222222222,
              "#7201a8"
             ],
             [
              0.3333333333333333,
              "#9c179e"
             ],
             [
              0.4444444444444444,
              "#bd3786"
             ],
             [
              0.5555555555555556,
              "#d8576b"
             ],
             [
              0.6666666666666666,
              "#ed7953"
             ],
             [
              0.7777777777777778,
              "#fb9f3a"
             ],
             [
              0.8888888888888888,
              "#fdca26"
             ],
             [
              1,
              "#f0f921"
             ]
            ],
            "type": "heatmap"
           }
          ],
          "heatmapgl": [
           {
            "colorbar": {
             "outlinewidth": 0,
             "ticks": ""
            },
            "colorscale": [
             [
              0,
              "#0d0887"
             ],
             [
              0.1111111111111111,
              "#46039f"
             ],
             [
              0.2222222222222222,
              "#7201a8"
             ],
             [
              0.3333333333333333,
              "#9c179e"
             ],
             [
              0.4444444444444444,
              "#bd3786"
             ],
             [
              0.5555555555555556,
              "#d8576b"
             ],
             [
              0.6666666666666666,
              "#ed7953"
             ],
             [
              0.7777777777777778,
              "#fb9f3a"
             ],
             [
              0.8888888888888888,
              "#fdca26"
             ],
             [
              1,
              "#f0f921"
             ]
            ],
            "type": "heatmapgl"
           }
          ],
          "histogram": [
           {
            "marker": {
             "colorbar": {
              "outlinewidth": 0,
              "ticks": ""
             }
            },
            "type": "histogram"
           }
          ],
          "histogram2d": [
           {
            "colorbar": {
             "outlinewidth": 0,
             "ticks": ""
            },
            "colorscale": [
             [
              0,
              "#0d0887"
             ],
             [
              0.1111111111111111,
              "#46039f"
             ],
             [
              0.2222222222222222,
              "#7201a8"
             ],
             [
              0.3333333333333333,
              "#9c179e"
             ],
             [
              0.4444444444444444,
              "#bd3786"
             ],
             [
              0.5555555555555556,
              "#d8576b"
             ],
             [
              0.6666666666666666,
              "#ed7953"
             ],
             [
              0.7777777777777778,
              "#fb9f3a"
             ],
             [
              0.8888888888888888,
              "#fdca26"
             ],
             [
              1,
              "#f0f921"
             ]
            ],
            "type": "histogram2d"
           }
          ],
          "histogram2dcontour": [
           {
            "colorbar": {
             "outlinewidth": 0,
             "ticks": ""
            },
            "colorscale": [
             [
              0,
              "#0d0887"
             ],
             [
              0.1111111111111111,
              "#46039f"
             ],
             [
              0.2222222222222222,
              "#7201a8"
             ],
             [
              0.3333333333333333,
              "#9c179e"
             ],
             [
              0.4444444444444444,
              "#bd3786"
             ],
             [
              0.5555555555555556,
              "#d8576b"
             ],
             [
              0.6666666666666666,
              "#ed7953"
             ],
             [
              0.7777777777777778,
              "#fb9f3a"
             ],
             [
              0.8888888888888888,
              "#fdca26"
             ],
             [
              1,
              "#f0f921"
             ]
            ],
            "type": "histogram2dcontour"
           }
          ],
          "mesh3d": [
           {
            "colorbar": {
             "outlinewidth": 0,
             "ticks": ""
            },
            "type": "mesh3d"
           }
          ],
          "parcoords": [
           {
            "line": {
             "colorbar": {
              "outlinewidth": 0,
              "ticks": ""
             }
            },
            "type": "parcoords"
           }
          ],
          "scatter": [
           {
            "marker": {
             "colorbar": {
              "outlinewidth": 0,
              "ticks": ""
             }
            },
            "type": "scatter"
           }
          ],
          "scatter3d": [
           {
            "line": {
             "colorbar": {
              "outlinewidth": 0,
              "ticks": ""
             }
            },
            "marker": {
             "colorbar": {
              "outlinewidth": 0,
              "ticks": ""
             }
            },
            "type": "scatter3d"
           }
          ],
          "scattercarpet": [
           {
            "marker": {
             "colorbar": {
              "outlinewidth": 0,
              "ticks": ""
             }
            },
            "type": "scattercarpet"
           }
          ],
          "scattergeo": [
           {
            "marker": {
             "colorbar": {
              "outlinewidth": 0,
              "ticks": ""
             }
            },
            "type": "scattergeo"
           }
          ],
          "scattergl": [
           {
            "marker": {
             "colorbar": {
              "outlinewidth": 0,
              "ticks": ""
             }
            },
            "type": "scattergl"
           }
          ],
          "scattermapbox": [
           {
            "marker": {
             "colorbar": {
              "outlinewidth": 0,
              "ticks": ""
             }
            },
            "type": "scattermapbox"
           }
          ],
          "scatterpolar": [
           {
            "marker": {
             "colorbar": {
              "outlinewidth": 0,
              "ticks": ""
             }
            },
            "type": "scatterpolar"
           }
          ],
          "scatterpolargl": [
           {
            "marker": {
             "colorbar": {
              "outlinewidth": 0,
              "ticks": ""
             }
            },
            "type": "scatterpolargl"
           }
          ],
          "scatterternary": [
           {
            "marker": {
             "colorbar": {
              "outlinewidth": 0,
              "ticks": ""
             }
            },
            "type": "scatterternary"
           }
          ],
          "surface": [
           {
            "colorbar": {
             "outlinewidth": 0,
             "ticks": ""
            },
            "colorscale": [
             [
              0,
              "#0d0887"
             ],
             [
              0.1111111111111111,
              "#46039f"
             ],
             [
              0.2222222222222222,
              "#7201a8"
             ],
             [
              0.3333333333333333,
              "#9c179e"
             ],
             [
              0.4444444444444444,
              "#bd3786"
             ],
             [
              0.5555555555555556,
              "#d8576b"
             ],
             [
              0.6666666666666666,
              "#ed7953"
             ],
             [
              0.7777777777777778,
              "#fb9f3a"
             ],
             [
              0.8888888888888888,
              "#fdca26"
             ],
             [
              1,
              "#f0f921"
             ]
            ],
            "type": "surface"
           }
          ],
          "table": [
           {
            "cells": {
             "fill": {
              "color": "#EBF0F8"
             },
             "line": {
              "color": "white"
             }
            },
            "header": {
             "fill": {
              "color": "#C8D4E3"
             },
             "line": {
              "color": "white"
             }
            },
            "type": "table"
           }
          ]
         },
         "layout": {
          "annotationdefaults": {
           "arrowcolor": "#2a3f5f",
           "arrowhead": 0,
           "arrowwidth": 1
          },
          "colorscale": {
           "diverging": [
            [
             0,
             "#8e0152"
            ],
            [
             0.1,
             "#c51b7d"
            ],
            [
             0.2,
             "#de77ae"
            ],
            [
             0.3,
             "#f1b6da"
            ],
            [
             0.4,
             "#fde0ef"
            ],
            [
             0.5,
             "#f7f7f7"
            ],
            [
             0.6,
             "#e6f5d0"
            ],
            [
             0.7,
             "#b8e186"
            ],
            [
             0.8,
             "#7fbc41"
            ],
            [
             0.9,
             "#4d9221"
            ],
            [
             1,
             "#276419"
            ]
           ],
           "sequential": [
            [
             0,
             "#0d0887"
            ],
            [
             0.1111111111111111,
             "#46039f"
            ],
            [
             0.2222222222222222,
             "#7201a8"
            ],
            [
             0.3333333333333333,
             "#9c179e"
            ],
            [
             0.4444444444444444,
             "#bd3786"
            ],
            [
             0.5555555555555556,
             "#d8576b"
            ],
            [
             0.6666666666666666,
             "#ed7953"
            ],
            [
             0.7777777777777778,
             "#fb9f3a"
            ],
            [
             0.8888888888888888,
             "#fdca26"
            ],
            [
             1,
             "#f0f921"
            ]
           ],
           "sequentialminus": [
            [
             0,
             "#0d0887"
            ],
            [
             0.1111111111111111,
             "#46039f"
            ],
            [
             0.2222222222222222,
             "#7201a8"
            ],
            [
             0.3333333333333333,
             "#9c179e"
            ],
            [
             0.4444444444444444,
             "#bd3786"
            ],
            [
             0.5555555555555556,
             "#d8576b"
            ],
            [
             0.6666666666666666,
             "#ed7953"
            ],
            [
             0.7777777777777778,
             "#fb9f3a"
            ],
            [
             0.8888888888888888,
             "#fdca26"
            ],
            [
             1,
             "#f0f921"
            ]
           ]
          },
          "colorway": [
           "#636efa",
           "#EF553B",
           "#00cc96",
           "#ab63fa",
           "#FFA15A",
           "#19d3f3",
           "#FF6692",
           "#B6E880",
           "#FF97FF",
           "#FECB52"
          ],
          "font": {
           "color": "#2a3f5f"
          },
          "geo": {
           "bgcolor": "white",
           "lakecolor": "white",
           "landcolor": "#E5ECF6",
           "showlakes": true,
           "showland": true,
           "subunitcolor": "white"
          },
          "hoverlabel": {
           "align": "left"
          },
          "hovermode": "closest",
          "mapbox": {
           "style": "light"
          },
          "paper_bgcolor": "white",
          "plot_bgcolor": "#E5ECF6",
          "polar": {
           "angularaxis": {
            "gridcolor": "white",
            "linecolor": "white",
            "ticks": ""
           },
           "bgcolor": "#E5ECF6",
           "radialaxis": {
            "gridcolor": "white",
            "linecolor": "white",
            "ticks": ""
           }
          },
          "scene": {
           "xaxis": {
            "backgroundcolor": "#E5ECF6",
            "gridcolor": "white",
            "gridwidth": 2,
            "linecolor": "white",
            "showbackground": true,
            "ticks": "",
            "zerolinecolor": "white"
           },
           "yaxis": {
            "backgroundcolor": "#E5ECF6",
            "gridcolor": "white",
            "gridwidth": 2,
            "linecolor": "white",
            "showbackground": true,
            "ticks": "",
            "zerolinecolor": "white"
           },
           "zaxis": {
            "backgroundcolor": "#E5ECF6",
            "gridcolor": "white",
            "gridwidth": 2,
            "linecolor": "white",
            "showbackground": true,
            "ticks": "",
            "zerolinecolor": "white"
           }
          },
          "shapedefaults": {
           "line": {
            "color": "#2a3f5f"
           }
          },
          "ternary": {
           "aaxis": {
            "gridcolor": "white",
            "linecolor": "white",
            "ticks": ""
           },
           "baxis": {
            "gridcolor": "white",
            "linecolor": "white",
            "ticks": ""
           },
           "bgcolor": "#E5ECF6",
           "caxis": {
            "gridcolor": "white",
            "linecolor": "white",
            "ticks": ""
           }
          },
          "title": {
           "x": 0.05
          },
          "xaxis": {
           "automargin": true,
           "gridcolor": "white",
           "linecolor": "white",
           "ticks": "",
           "zerolinecolor": "white",
           "zerolinewidth": 2
          },
          "yaxis": {
           "automargin": true,
           "gridcolor": "white",
           "linecolor": "white",
           "ticks": "",
           "zerolinecolor": "white",
           "zerolinewidth": 2
          }
         }
        },
        "xaxis": {
         "title": {
          "text": "Epoch"
         }
        },
        "yaxis": {
         "title": {
          "text": "Accuracy"
         }
        }
       }
      },
      "text/html": [
       "<div>\n",
       "        \n",
       "        \n",
       "            <div id=\"c0ba7c25-baea-4295-b60b-305c2d3dcf58\" class=\"plotly-graph-div\" style=\"height:525px; width:100%;\"></div>\n",
       "            <script type=\"text/javascript\">\n",
       "                require([\"plotly\"], function(Plotly) {\n",
       "                    window.PLOTLYENV=window.PLOTLYENV || {};\n",
       "                    \n",
       "                if (document.getElementById(\"c0ba7c25-baea-4295-b60b-305c2d3dcf58\")) {\n",
       "                    Plotly.newPlot(\n",
       "                        'c0ba7c25-baea-4295-b60b-305c2d3dcf58',\n",
       "                        [{\"line\": {\"color\": \"rgb(110,200,250)\", \"width\": 3}, \"mode\": \"lines\", \"name\": \"Standard training model\", \"type\": \"scatter\", \"x\": [0, 1, 2, 3, 4, 5, 6, 7, 8, 9, 10], \"y\": [39.54, 47.188, 49.84, 51.238, 52.79, 53.63, 54.39, 54.72, 55.762, 55.92]}, {\"line\": {\"color\": \"rgb(250,110,200)\", \"width\": 3}, \"mode\": \"lines\", \"name\": \"Pretrained training model \", \"type\": \"scatter\", \"x\": [0, 1, 2, 3, 4, 5, 6, 7, 8, 9, 10], \"y\": [38.198, 44.852, 47.896, 49.822, 50.486, 51.986, 52.582, 53.432, 53.922, 54.35]}, {\"line\": {\"color\": \"rgb(80,100,180)\", \"width\": 3}, \"mode\": \"lines\", \"name\": \"Standard test model\", \"type\": \"scatter\", \"x\": [0, 1, 2, 3, 4, 5, 6, 7, 8, 9, 10], \"y\": [52.37, 56.95, 59.57, 60.33, 61.9, 60.45, 62.04, 63.95, 62.75, 63.88]}, {\"line\": {\"color\": \"rgb(210,70,100)\", \"width\": 3}, \"mode\": \"lines\", \"name\": \"Pretrained test model\", \"type\": \"scatter\", \"x\": [0, 1, 2, 3, 4, 5, 6, 7, 8, 9, 10], \"y\": [50.15, 54.56, 56.09, 58.41, 59.61, 60.33, 60.27, 61.31, 61.41, 61.86]}],\n",
       "                        {\"template\": {\"data\": {\"bar\": [{\"error_x\": {\"color\": \"#2a3f5f\"}, \"error_y\": {\"color\": \"#2a3f5f\"}, \"marker\": {\"line\": {\"color\": \"#E5ECF6\", \"width\": 0.5}}, \"type\": \"bar\"}], \"barpolar\": [{\"marker\": {\"line\": {\"color\": \"#E5ECF6\", \"width\": 0.5}}, \"type\": \"barpolar\"}], \"carpet\": [{\"aaxis\": {\"endlinecolor\": \"#2a3f5f\", \"gridcolor\": \"white\", \"linecolor\": \"white\", \"minorgridcolor\": \"white\", \"startlinecolor\": \"#2a3f5f\"}, \"baxis\": {\"endlinecolor\": \"#2a3f5f\", \"gridcolor\": \"white\", \"linecolor\": \"white\", \"minorgridcolor\": \"white\", \"startlinecolor\": \"#2a3f5f\"}, \"type\": \"carpet\"}], \"choropleth\": [{\"colorbar\": {\"outlinewidth\": 0, \"ticks\": \"\"}, \"type\": \"choropleth\"}], \"contour\": [{\"colorbar\": {\"outlinewidth\": 0, \"ticks\": \"\"}, \"colorscale\": [[0.0, \"#0d0887\"], [0.1111111111111111, \"#46039f\"], [0.2222222222222222, \"#7201a8\"], [0.3333333333333333, \"#9c179e\"], [0.4444444444444444, \"#bd3786\"], [0.5555555555555556, \"#d8576b\"], [0.6666666666666666, \"#ed7953\"], [0.7777777777777778, \"#fb9f3a\"], [0.8888888888888888, \"#fdca26\"], [1.0, \"#f0f921\"]], \"type\": \"contour\"}], \"contourcarpet\": [{\"colorbar\": {\"outlinewidth\": 0, \"ticks\": \"\"}, \"type\": \"contourcarpet\"}], \"heatmap\": [{\"colorbar\": {\"outlinewidth\": 0, \"ticks\": \"\"}, \"colorscale\": [[0.0, \"#0d0887\"], [0.1111111111111111, \"#46039f\"], [0.2222222222222222, \"#7201a8\"], [0.3333333333333333, \"#9c179e\"], [0.4444444444444444, \"#bd3786\"], [0.5555555555555556, \"#d8576b\"], [0.6666666666666666, \"#ed7953\"], [0.7777777777777778, \"#fb9f3a\"], [0.8888888888888888, \"#fdca26\"], [1.0, \"#f0f921\"]], \"type\": \"heatmap\"}], \"heatmapgl\": [{\"colorbar\": {\"outlinewidth\": 0, \"ticks\": \"\"}, \"colorscale\": [[0.0, \"#0d0887\"], [0.1111111111111111, \"#46039f\"], [0.2222222222222222, \"#7201a8\"], [0.3333333333333333, \"#9c179e\"], [0.4444444444444444, \"#bd3786\"], [0.5555555555555556, \"#d8576b\"], [0.6666666666666666, \"#ed7953\"], [0.7777777777777778, \"#fb9f3a\"], [0.8888888888888888, \"#fdca26\"], [1.0, \"#f0f921\"]], \"type\": \"heatmapgl\"}], \"histogram\": [{\"marker\": {\"colorbar\": {\"outlinewidth\": 0, \"ticks\": \"\"}}, \"type\": \"histogram\"}], \"histogram2d\": [{\"colorbar\": {\"outlinewidth\": 0, \"ticks\": \"\"}, \"colorscale\": [[0.0, \"#0d0887\"], [0.1111111111111111, \"#46039f\"], [0.2222222222222222, \"#7201a8\"], [0.3333333333333333, \"#9c179e\"], [0.4444444444444444, \"#bd3786\"], [0.5555555555555556, \"#d8576b\"], [0.6666666666666666, \"#ed7953\"], [0.7777777777777778, \"#fb9f3a\"], [0.8888888888888888, \"#fdca26\"], [1.0, \"#f0f921\"]], \"type\": \"histogram2d\"}], \"histogram2dcontour\": [{\"colorbar\": {\"outlinewidth\": 0, \"ticks\": \"\"}, \"colorscale\": [[0.0, \"#0d0887\"], [0.1111111111111111, \"#46039f\"], [0.2222222222222222, \"#7201a8\"], [0.3333333333333333, \"#9c179e\"], [0.4444444444444444, \"#bd3786\"], [0.5555555555555556, \"#d8576b\"], [0.6666666666666666, \"#ed7953\"], [0.7777777777777778, \"#fb9f3a\"], [0.8888888888888888, \"#fdca26\"], [1.0, \"#f0f921\"]], \"type\": \"histogram2dcontour\"}], \"mesh3d\": [{\"colorbar\": {\"outlinewidth\": 0, \"ticks\": \"\"}, \"type\": \"mesh3d\"}], \"parcoords\": [{\"line\": {\"colorbar\": {\"outlinewidth\": 0, \"ticks\": \"\"}}, \"type\": \"parcoords\"}], \"scatter\": [{\"marker\": {\"colorbar\": {\"outlinewidth\": 0, \"ticks\": \"\"}}, \"type\": \"scatter\"}], \"scatter3d\": [{\"line\": {\"colorbar\": {\"outlinewidth\": 0, \"ticks\": \"\"}}, \"marker\": {\"colorbar\": {\"outlinewidth\": 0, \"ticks\": \"\"}}, \"type\": \"scatter3d\"}], \"scattercarpet\": [{\"marker\": {\"colorbar\": {\"outlinewidth\": 0, \"ticks\": \"\"}}, \"type\": \"scattercarpet\"}], \"scattergeo\": [{\"marker\": {\"colorbar\": {\"outlinewidth\": 0, \"ticks\": \"\"}}, \"type\": \"scattergeo\"}], \"scattergl\": [{\"marker\": {\"colorbar\": {\"outlinewidth\": 0, \"ticks\": \"\"}}, \"type\": \"scattergl\"}], \"scattermapbox\": [{\"marker\": {\"colorbar\": {\"outlinewidth\": 0, \"ticks\": \"\"}}, \"type\": \"scattermapbox\"}], \"scatterpolar\": [{\"marker\": {\"colorbar\": {\"outlinewidth\": 0, \"ticks\": \"\"}}, \"type\": \"scatterpolar\"}], \"scatterpolargl\": [{\"marker\": {\"colorbar\": {\"outlinewidth\": 0, \"ticks\": \"\"}}, \"type\": \"scatterpolargl\"}], \"scatterternary\": [{\"marker\": {\"colorbar\": {\"outlinewidth\": 0, \"ticks\": \"\"}}, \"type\": \"scatterternary\"}], \"surface\": [{\"colorbar\": {\"outlinewidth\": 0, \"ticks\": \"\"}, \"colorscale\": [[0.0, \"#0d0887\"], [0.1111111111111111, \"#46039f\"], [0.2222222222222222, \"#7201a8\"], [0.3333333333333333, \"#9c179e\"], [0.4444444444444444, \"#bd3786\"], [0.5555555555555556, \"#d8576b\"], [0.6666666666666666, \"#ed7953\"], [0.7777777777777778, \"#fb9f3a\"], [0.8888888888888888, \"#fdca26\"], [1.0, \"#f0f921\"]], \"type\": \"surface\"}], \"table\": [{\"cells\": {\"fill\": {\"color\": \"#EBF0F8\"}, \"line\": {\"color\": \"white\"}}, \"header\": {\"fill\": {\"color\": \"#C8D4E3\"}, \"line\": {\"color\": \"white\"}}, \"type\": \"table\"}]}, \"layout\": {\"annotationdefaults\": {\"arrowcolor\": \"#2a3f5f\", \"arrowhead\": 0, \"arrowwidth\": 1}, \"colorscale\": {\"diverging\": [[0, \"#8e0152\"], [0.1, \"#c51b7d\"], [0.2, \"#de77ae\"], [0.3, \"#f1b6da\"], [0.4, \"#fde0ef\"], [0.5, \"#f7f7f7\"], [0.6, \"#e6f5d0\"], [0.7, \"#b8e186\"], [0.8, \"#7fbc41\"], [0.9, \"#4d9221\"], [1, \"#276419\"]], \"sequential\": [[0.0, \"#0d0887\"], [0.1111111111111111, \"#46039f\"], [0.2222222222222222, \"#7201a8\"], [0.3333333333333333, \"#9c179e\"], [0.4444444444444444, \"#bd3786\"], [0.5555555555555556, \"#d8576b\"], [0.6666666666666666, \"#ed7953\"], [0.7777777777777778, \"#fb9f3a\"], [0.8888888888888888, \"#fdca26\"], [1.0, \"#f0f921\"]], \"sequentialminus\": [[0.0, \"#0d0887\"], [0.1111111111111111, \"#46039f\"], [0.2222222222222222, \"#7201a8\"], [0.3333333333333333, \"#9c179e\"], [0.4444444444444444, \"#bd3786\"], [0.5555555555555556, \"#d8576b\"], [0.6666666666666666, \"#ed7953\"], [0.7777777777777778, \"#fb9f3a\"], [0.8888888888888888, \"#fdca26\"], [1.0, \"#f0f921\"]]}, \"colorway\": [\"#636efa\", \"#EF553B\", \"#00cc96\", \"#ab63fa\", \"#FFA15A\", \"#19d3f3\", \"#FF6692\", \"#B6E880\", \"#FF97FF\", \"#FECB52\"], \"font\": {\"color\": \"#2a3f5f\"}, \"geo\": {\"bgcolor\": \"white\", \"lakecolor\": \"white\", \"landcolor\": \"#E5ECF6\", \"showlakes\": true, \"showland\": true, \"subunitcolor\": \"white\"}, \"hoverlabel\": {\"align\": \"left\"}, \"hovermode\": \"closest\", \"mapbox\": {\"style\": \"light\"}, \"paper_bgcolor\": \"white\", \"plot_bgcolor\": \"#E5ECF6\", \"polar\": {\"angularaxis\": {\"gridcolor\": \"white\", \"linecolor\": \"white\", \"ticks\": \"\"}, \"bgcolor\": \"#E5ECF6\", \"radialaxis\": {\"gridcolor\": \"white\", \"linecolor\": \"white\", \"ticks\": \"\"}}, \"scene\": {\"xaxis\": {\"backgroundcolor\": \"#E5ECF6\", \"gridcolor\": \"white\", \"gridwidth\": 2, \"linecolor\": \"white\", \"showbackground\": true, \"ticks\": \"\", \"zerolinecolor\": \"white\"}, \"yaxis\": {\"backgroundcolor\": \"#E5ECF6\", \"gridcolor\": \"white\", \"gridwidth\": 2, \"linecolor\": \"white\", \"showbackground\": true, \"ticks\": \"\", \"zerolinecolor\": \"white\"}, \"zaxis\": {\"backgroundcolor\": \"#E5ECF6\", \"gridcolor\": \"white\", \"gridwidth\": 2, \"linecolor\": \"white\", \"showbackground\": true, \"ticks\": \"\", \"zerolinecolor\": \"white\"}}, \"shapedefaults\": {\"line\": {\"color\": \"#2a3f5f\"}}, \"ternary\": {\"aaxis\": {\"gridcolor\": \"white\", \"linecolor\": \"white\", \"ticks\": \"\"}, \"baxis\": {\"gridcolor\": \"white\", \"linecolor\": \"white\", \"ticks\": \"\"}, \"bgcolor\": \"#E5ECF6\", \"caxis\": {\"gridcolor\": \"white\", \"linecolor\": \"white\", \"ticks\": \"\"}}, \"title\": {\"x\": 0.05}, \"xaxis\": {\"automargin\": true, \"gridcolor\": \"white\", \"linecolor\": \"white\", \"ticks\": \"\", \"zerolinecolor\": \"white\", \"zerolinewidth\": 2}, \"yaxis\": {\"automargin\": true, \"gridcolor\": \"white\", \"linecolor\": \"white\", \"ticks\": \"\", \"zerolinecolor\": \"white\", \"zerolinewidth\": 2}}}, \"xaxis\": {\"title\": {\"text\": \"Epoch\"}}, \"yaxis\": {\"title\": {\"text\": \"Accuracy\"}}},\n",
       "                        {\"responsive\": true}\n",
       "                    ).then(function(){\n",
       "                            \n",
       "var gd = document.getElementById('c0ba7c25-baea-4295-b60b-305c2d3dcf58');\n",
       "var x = new MutationObserver(function (mutations, observer) {{\n",
       "        var display = window.getComputedStyle(gd).display;\n",
       "        if (!display || display === 'none') {{\n",
       "            console.log([gd, 'removed!']);\n",
       "            Plotly.purge(gd);\n",
       "            observer.disconnect();\n",
       "        }}\n",
       "}});\n",
       "\n",
       "// Listen for the removal of the full notebook cells\n",
       "var notebookContainer = gd.closest('#notebook-container');\n",
       "if (notebookContainer) {{\n",
       "    x.observe(notebookContainer, {childList: true});\n",
       "}}\n",
       "\n",
       "// Listen for the clearing of the current output cell\n",
       "var outputEl = gd.closest('.output');\n",
       "if (outputEl) {{\n",
       "    x.observe(outputEl, {childList: true});\n",
       "}}\n",
       "\n",
       "                        })\n",
       "                };\n",
       "                });\n",
       "            </script>\n",
       "        </div>"
      ]
     },
     "metadata": {},
     "output_type": "display_data"
    }
   ],
   "source": [
    "draw_graph(train_accuracy_vector, pret_accuracy_vector, test_accuracy_vector, pret_test_accuracy_vector, \"Accuracy\")"
   ]
  },
  {
   "cell_type": "code",
   "execution_count": 33,
   "metadata": {},
   "outputs": [],
   "source": [
    "torch.save(model.state_dict(), \"./st_model.pth\")"
   ]
  },
  {
   "cell_type": "code",
   "execution_count": 34,
   "metadata": {},
   "outputs": [],
   "source": [
    "torch.save(pret_model.state_dict(), \"./pret_model.pth\")"
   ]
  }
 ],
 "metadata": {
  "kernelspec": {
   "display_name": "Python 3",
   "language": "python",
   "name": "python3"
  },
  "language_info": {
   "codemirror_mode": {
    "name": "ipython",
    "version": 3
   },
   "file_extension": ".py",
   "mimetype": "text/x-python",
   "name": "python",
   "nbconvert_exporter": "python",
   "pygments_lexer": "ipython3",
   "version": "3.7.3"
  }
 },
 "nbformat": 4,
 "nbformat_minor": 2
}
